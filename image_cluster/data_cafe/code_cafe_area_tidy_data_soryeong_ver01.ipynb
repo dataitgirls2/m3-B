{
 "cells": [
  {
   "cell_type": "code",
   "execution_count": 10,
   "metadata": {},
   "outputs": [
    {
     "data": {
      "text/plain": [
       "{'은평구': 'ws_ep',\n",
       " '마포구': 'ws_mp',\n",
       " '서대문구': 'ws_sdm',\n",
       " '강서구': 'sw_gs',\n",
       " '양천구': 'sw_yc',\n",
       " '영등포구': 'sw_ydp',\n",
       " '구로구': 'sw_gr',\n",
       " '종로구': 'cs_jr',\n",
       " '중구': 'cs_jg',\n",
       " '용산구': 'cs_ys',\n",
       " '동작구': 'ss_dj',\n",
       " '관악구': 'ss_ga',\n",
       " '금천구': 'ss_gc',\n",
       " '서초구': 'gn_sc',\n",
       " '강남구': 'gn_gn',\n",
       " '도봉구': 'gb_db',\n",
       " '강북구': 'gb_gb',\n",
       " '성북구': 'gb_sb',\n",
       " '노원구': 'gb_nw',\n",
       " '동대문구': 'es_ddm',\n",
       " '중랑구': 'es_gl',\n",
       " '성동구': 'es_sd',\n",
       " '광진구': 'es_gj',\n",
       " '강동구': 'se_gd',\n",
       " '송파구': 'se_sp'}"
      ]
     },
     "execution_count": 10,
     "metadata": {},
     "output_type": "execute_result"
    }
   ],
   "source": [
    "anchor_dict = {\\\n",
    "'은평구': 'ws_ep', '마포구': 'ws_mp', '서대문구': 'ws_sdm', '강서구': 'sw_gs',\\\n",
    "'양천구': 'sw_yc', '영등포구': 'sw_ydp', '구로구': 'sw_gr', '종로구': 'cs_jr',\\\n",
    "'중구': 'cs_jg', '용산구': 'cs_ys', '동작구': 'ss_dj', '관악구': 'ss_ga',\\\n",
    "'금천구': 'ss_gc', '서초구': 'gn_sc', '강남구': 'gn_gn', '도봉구': 'gb_db',\\\n",
    "'강북구': 'gb_gb', '성북구': 'gb_sb', '노원구': 'gb_nw', '동대문구': 'es_ddm',\\\n",
    "'중랑구': 'es_gl', '성동구': 'es_sd', '광진구': 'es_gj', '강동구': 'se_gd', '송파구': 'se_sp'}\n",
    "anchor_dict"
   ]
  },
  {
   "cell_type": "code",
   "execution_count": 29,
   "metadata": {},
   "outputs": [],
   "source": [
    "sorted_area_by_kor = sorted(anchor_dict.items(), key=lambda x:x[0])"
   ]
  },
  {
   "cell_type": "code",
   "execution_count": 36,
   "metadata": {},
   "outputs": [
    {
     "data": {
      "text/plain": [
       "[('강남구', 'gn_gn'),\n",
       " ('강동구', 'se_gd'),\n",
       " ('강북구', 'gb_gb'),\n",
       " ('강서구', 'sw_gs'),\n",
       " ('관악구', 'ss_ga'),\n",
       " ('광진구', 'es_gj'),\n",
       " ('구로구', 'sw_gr'),\n",
       " ('금천구', 'ss_gc'),\n",
       " ('노원구', 'gb_nw'),\n",
       " ('도봉구', 'gb_db'),\n",
       " ('동대문구', 'es_ddm'),\n",
       " ('동작구', 'ss_dj'),\n",
       " ('마포구', 'ws_mp'),\n",
       " ('서대문구', 'ws_sdm'),\n",
       " ('서초구', 'gn_sc'),\n",
       " ('성동구', 'es_sd'),\n",
       " ('성북구', 'gb_sb'),\n",
       " ('송파구', 'se_sp'),\n",
       " ('양천구', 'sw_yc'),\n",
       " ('영등포구', 'sw_ydp'),\n",
       " ('용산구', 'cs_ys'),\n",
       " ('은평구', 'ws_ep'),\n",
       " ('종로구', 'cs_jr'),\n",
       " ('중구', 'cs_jg'),\n",
       " ('중랑구', 'es_gl')]"
      ]
     },
     "execution_count": 36,
     "metadata": {},
     "output_type": "execute_result"
    }
   ],
   "source": [
    "sorted_area_by_kor"
   ]
  },
  {
   "cell_type": "code",
   "execution_count": 51,
   "metadata": {},
   "outputs": [],
   "source": [
    "import pandas as pd\n",
    "df_sorted_area_by_kor = pd.DataFrame()"
   ]
  },
  {
   "cell_type": "code",
   "execution_count": 52,
   "metadata": {},
   "outputs": [
    {
     "data": {
      "text/plain": [
       "list"
      ]
     },
     "execution_count": 52,
     "metadata": {},
     "output_type": "execute_result"
    }
   ],
   "source": [
    "area_in_korean = [area[0] for area in sorted_area_by_kor]\n",
    "type(area_in_korean)"
   ]
  },
  {
   "cell_type": "code",
   "execution_count": 54,
   "metadata": {},
   "outputs": [],
   "source": [
    "df_sorted_area_by_kor['지역명(한글)'] = area_in_korean"
   ]
  },
  {
   "cell_type": "code",
   "execution_count": 55,
   "metadata": {},
   "outputs": [],
   "source": [
    "area_in_english = [area[1] for area in sorted_area_by_kor]"
   ]
  },
  {
   "cell_type": "code",
   "execution_count": 56,
   "metadata": {},
   "outputs": [],
   "source": [
    "df_sorted_area_by_kor['지역명(영문)'] = area_in_english"
   ]
  },
  {
   "cell_type": "code",
   "execution_count": 57,
   "metadata": {},
   "outputs": [
    {
     "data": {
      "text/html": [
       "<div>\n",
       "<style scoped>\n",
       "    .dataframe tbody tr th:only-of-type {\n",
       "        vertical-align: middle;\n",
       "    }\n",
       "\n",
       "    .dataframe tbody tr th {\n",
       "        vertical-align: top;\n",
       "    }\n",
       "\n",
       "    .dataframe thead th {\n",
       "        text-align: right;\n",
       "    }\n",
       "</style>\n",
       "<table border=\"1\" class=\"dataframe\">\n",
       "  <thead>\n",
       "    <tr style=\"text-align: right;\">\n",
       "      <th></th>\n",
       "      <th>지역명(한글)</th>\n",
       "      <th>지역명(영문)</th>\n",
       "    </tr>\n",
       "  </thead>\n",
       "  <tbody>\n",
       "    <tr>\n",
       "      <th>0</th>\n",
       "      <td>강남구</td>\n",
       "      <td>gn_gn</td>\n",
       "    </tr>\n",
       "    <tr>\n",
       "      <th>1</th>\n",
       "      <td>강동구</td>\n",
       "      <td>se_gd</td>\n",
       "    </tr>\n",
       "    <tr>\n",
       "      <th>2</th>\n",
       "      <td>강북구</td>\n",
       "      <td>gb_gb</td>\n",
       "    </tr>\n",
       "    <tr>\n",
       "      <th>3</th>\n",
       "      <td>강서구</td>\n",
       "      <td>sw_gs</td>\n",
       "    </tr>\n",
       "    <tr>\n",
       "      <th>4</th>\n",
       "      <td>관악구</td>\n",
       "      <td>ss_ga</td>\n",
       "    </tr>\n",
       "  </tbody>\n",
       "</table>\n",
       "</div>"
      ],
      "text/plain": [
       "  지역명(한글) 지역명(영문)\n",
       "0     강남구   gn_gn\n",
       "1     강동구   se_gd\n",
       "2     강북구   gb_gb\n",
       "3     강서구   sw_gs\n",
       "4     관악구   ss_ga"
      ]
     },
     "execution_count": 57,
     "metadata": {},
     "output_type": "execute_result"
    }
   ],
   "source": [
    "df_sorted_area_by_kor.head()"
   ]
  },
  {
   "cell_type": "code",
   "execution_count": 58,
   "metadata": {},
   "outputs": [],
   "source": [
    "df_sorted_area_by_kor.to_csv('data_sorted_area_by_kor.csv')"
   ]
  },
  {
   "cell_type": "code",
   "execution_count": 59,
   "metadata": {},
   "outputs": [],
   "source": [
    "sorted_area_by_eng = sorted(anchor_dict.items(), key=lambda x:x[1])"
   ]
  },
  {
   "cell_type": "code",
   "execution_count": 68,
   "metadata": {},
   "outputs": [],
   "source": [
    "df_sorted_area_by_eng = pd.DataFrame()"
   ]
  },
  {
   "cell_type": "code",
   "execution_count": 69,
   "metadata": {},
   "outputs": [],
   "source": [
    "area_in_korean = [area[0] for area in sorted_area_by_eng]"
   ]
  },
  {
   "cell_type": "code",
   "execution_count": 70,
   "metadata": {},
   "outputs": [],
   "source": [
    "area_in_english = [area[1] for area in sorted_area_by_eng]"
   ]
  },
  {
   "cell_type": "code",
   "execution_count": 71,
   "metadata": {},
   "outputs": [],
   "source": [
    "df_sorted_area_by_eng['지역명(한글)'] = area_in_korean\n",
    "df_sorted_area_by_eng['지역명(영문)'] = area_in_english"
   ]
  },
  {
   "cell_type": "code",
   "execution_count": 72,
   "metadata": {},
   "outputs": [
    {
     "data": {
      "text/html": [
       "<div>\n",
       "<style scoped>\n",
       "    .dataframe tbody tr th:only-of-type {\n",
       "        vertical-align: middle;\n",
       "    }\n",
       "\n",
       "    .dataframe tbody tr th {\n",
       "        vertical-align: top;\n",
       "    }\n",
       "\n",
       "    .dataframe thead th {\n",
       "        text-align: right;\n",
       "    }\n",
       "</style>\n",
       "<table border=\"1\" class=\"dataframe\">\n",
       "  <thead>\n",
       "    <tr style=\"text-align: right;\">\n",
       "      <th></th>\n",
       "      <th>지역명(한글)</th>\n",
       "      <th>지역명(영문)</th>\n",
       "    </tr>\n",
       "  </thead>\n",
       "  <tbody>\n",
       "    <tr>\n",
       "      <th>0</th>\n",
       "      <td>중구</td>\n",
       "      <td>cs_jg</td>\n",
       "    </tr>\n",
       "    <tr>\n",
       "      <th>1</th>\n",
       "      <td>종로구</td>\n",
       "      <td>cs_jr</td>\n",
       "    </tr>\n",
       "    <tr>\n",
       "      <th>2</th>\n",
       "      <td>용산구</td>\n",
       "      <td>cs_ys</td>\n",
       "    </tr>\n",
       "    <tr>\n",
       "      <th>3</th>\n",
       "      <td>동대문구</td>\n",
       "      <td>es_ddm</td>\n",
       "    </tr>\n",
       "    <tr>\n",
       "      <th>4</th>\n",
       "      <td>광진구</td>\n",
       "      <td>es_gj</td>\n",
       "    </tr>\n",
       "  </tbody>\n",
       "</table>\n",
       "</div>"
      ],
      "text/plain": [
       "  지역명(한글) 지역명(영문)\n",
       "0      중구   cs_jg\n",
       "1     종로구   cs_jr\n",
       "2     용산구   cs_ys\n",
       "3    동대문구  es_ddm\n",
       "4     광진구   es_gj"
      ]
     },
     "execution_count": 72,
     "metadata": {},
     "output_type": "execute_result"
    }
   ],
   "source": [
    "df_sorted_area_by_eng.head()"
   ]
  },
  {
   "cell_type": "code",
   "execution_count": 73,
   "metadata": {},
   "outputs": [],
   "source": [
    "df_sorted_area_by_eng.to_csv('data_sorted_area_by_eng.csv')"
   ]
  },
  {
   "cell_type": "code",
   "execution_count": 17,
   "metadata": {},
   "outputs": [],
   "source": [
    "kor_area = list(anchor_dict.keys())"
   ]
  },
  {
   "cell_type": "code",
   "execution_count": 20,
   "metadata": {},
   "outputs": [],
   "source": [
    "kor_area.sort()"
   ]
  },
  {
   "cell_type": "code",
   "execution_count": 21,
   "metadata": {},
   "outputs": [
    {
     "data": {
      "text/plain": [
       "['강남구',\n",
       " '강동구',\n",
       " '강북구',\n",
       " '강서구',\n",
       " '관악구',\n",
       " '광진구',\n",
       " '구로구',\n",
       " '금천구',\n",
       " '노원구',\n",
       " '도봉구',\n",
       " '동대문구',\n",
       " '동작구',\n",
       " '마포구',\n",
       " '서대문구',\n",
       " '서초구',\n",
       " '성동구',\n",
       " '성북구',\n",
       " '송파구',\n",
       " '양천구',\n",
       " '영등포구',\n",
       " '용산구',\n",
       " '은평구',\n",
       " '종로구',\n",
       " '중구',\n",
       " '중랑구']"
      ]
     },
     "execution_count": 21,
     "metadata": {},
     "output_type": "execute_result"
    }
   ],
   "source": [
    "kor_area"
   ]
  },
  {
   "cell_type": "code",
   "execution_count": null,
   "metadata": {},
   "outputs": [],
   "source": []
  }
 ],
 "metadata": {
  "kernelspec": {
   "display_name": "Python 3",
   "language": "python",
   "name": "python3"
  },
  "language_info": {
   "codemirror_mode": {
    "name": "ipython",
    "version": 3
   },
   "file_extension": ".py",
   "mimetype": "text/x-python",
   "name": "python",
   "nbconvert_exporter": "python",
   "pygments_lexer": "ipython3",
   "version": "3.6.5"
  }
 },
 "nbformat": 4,
 "nbformat_minor": 2
}
