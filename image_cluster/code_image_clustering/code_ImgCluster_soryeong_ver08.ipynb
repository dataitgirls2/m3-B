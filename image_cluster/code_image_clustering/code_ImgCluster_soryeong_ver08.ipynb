{
 "cells": [
  {
   "cell_type": "code",
   "execution_count": 1,
   "metadata": {},
   "outputs": [],
   "source": [
    "import numpy as np\n",
    "import cv2\n",
    "import matplotlib.image as mpimg\n",
    "from matplotlib import pyplot as plt\n",
    "from sklearn.cluster import KMeans\n",
    "import scipy.misc\n",
    "import pandas as pd"
   ]
  },
  {
   "cell_type": "code",
   "execution_count": 2,
   "metadata": {},
   "outputs": [
    {
     "data": {
      "text/plain": [
       "'\\n출처\\nhttps://github.com/inyl/my_notebook/blob/master/open_cv/image_color_cluster.ipynb\\nhttps://www.pyimagesearch.com/2014/05/26/opencv-python-k-means-color-clustering/\\n'"
      ]
     },
     "execution_count": 2,
     "metadata": {},
     "output_type": "execute_result"
    }
   ],
   "source": [
    "'''\n",
    "출처\n",
    "https://github.com/inyl/my_notebook/blob/master/open_cv/image_color_cluster.ipynb\n",
    "https://www.pyimagesearch.com/2014/05/26/opencv-python-k-means-color-clustering/\n",
    "'''"
   ]
  },
  {
   "cell_type": "code",
   "execution_count": 3,
   "metadata": {},
   "outputs": [],
   "source": [
    "'''\n",
    "카페 DF가 다 모인 후에 주석을 풀고 실행\n",
    "'''\n",
    "df_cafe = pd.read_csv('final_cafe_info.csv')"
   ]
  },
  {
   "cell_type": "code",
   "execution_count": 4,
   "metadata": {},
   "outputs": [
    {
     "data": {
      "text/html": [
       "<div>\n",
       "<style scoped>\n",
       "    .dataframe tbody tr th:only-of-type {\n",
       "        vertical-align: middle;\n",
       "    }\n",
       "\n",
       "    .dataframe tbody tr th {\n",
       "        vertical-align: top;\n",
       "    }\n",
       "\n",
       "    .dataframe thead th {\n",
       "        text-align: right;\n",
       "    }\n",
       "</style>\n",
       "<table border=\"1\" class=\"dataframe\">\n",
       "  <thead>\n",
       "    <tr style=\"text-align: right;\">\n",
       "      <th></th>\n",
       "      <th>지역</th>\n",
       "      <th>지역구</th>\n",
       "      <th>카페명</th>\n",
       "      <th>주소</th>\n",
       "      <th>위도</th>\n",
       "      <th>경도</th>\n",
       "      <th>Unnamed: 6</th>\n",
       "    </tr>\n",
       "  </thead>\n",
       "  <tbody>\n",
       "    <tr>\n",
       "      <th>0</th>\n",
       "      <td>서서울</td>\n",
       "      <td>은평</td>\n",
       "      <td>스모어</td>\n",
       "      <td>서울 은평구 연서로29길 8-8</td>\n",
       "      <td>37.618952</td>\n",
       "      <td>126.919697</td>\n",
       "      <td>NaN</td>\n",
       "    </tr>\n",
       "    <tr>\n",
       "      <th>1</th>\n",
       "      <td>서서울</td>\n",
       "      <td>은평</td>\n",
       "      <td>필라멘트카페</td>\n",
       "      <td>서울 은평구 통일로 883</td>\n",
       "      <td>37.621753</td>\n",
       "      <td>126.919462</td>\n",
       "      <td>NaN</td>\n",
       "    </tr>\n",
       "    <tr>\n",
       "      <th>2</th>\n",
       "      <td>서서울</td>\n",
       "      <td>은평</td>\n",
       "      <td>HUGA</td>\n",
       "      <td>서울 은평구 진관2로 19</td>\n",
       "      <td>37.634753</td>\n",
       "      <td>126.919774</td>\n",
       "      <td>NaN</td>\n",
       "    </tr>\n",
       "    <tr>\n",
       "      <th>3</th>\n",
       "      <td>서서울</td>\n",
       "      <td>은평</td>\n",
       "      <td>YM Coffee Project</td>\n",
       "      <td>서울 은평구 연서로29길 21-8</td>\n",
       "      <td>37.619095</td>\n",
       "      <td>126.917542</td>\n",
       "      <td>NaN</td>\n",
       "    </tr>\n",
       "    <tr>\n",
       "      <th>4</th>\n",
       "      <td>서서울</td>\n",
       "      <td>은평</td>\n",
       "      <td>카페달력</td>\n",
       "      <td>서울 은평구 연서로18길 28-2</td>\n",
       "      <td>37.611930</td>\n",
       "      <td>126.920534</td>\n",
       "      <td>NaN</td>\n",
       "    </tr>\n",
       "  </tbody>\n",
       "</table>\n",
       "</div>"
      ],
      "text/plain": [
       "    지역 지역구                카페명                  주소         위도          경도  \\\n",
       "0  서서울  은평                스모어   서울 은평구 연서로29길 8-8  37.618952  126.919697   \n",
       "1  서서울  은평             필라멘트카페      서울 은평구 통일로 883  37.621753  126.919462   \n",
       "2  서서울  은평               HUGA      서울 은평구 진관2로 19  37.634753  126.919774   \n",
       "3  서서울  은평  YM Coffee Project  서울 은평구 연서로29길 21-8  37.619095  126.917542   \n",
       "4  서서울  은평               카페달력  서울 은평구 연서로18길 28-2  37.611930  126.920534   \n",
       "\n",
       "  Unnamed: 6  \n",
       "0        NaN  \n",
       "1        NaN  \n",
       "2        NaN  \n",
       "3        NaN  \n",
       "4        NaN  "
      ]
     },
     "execution_count": 4,
     "metadata": {},
     "output_type": "execute_result"
    }
   ],
   "source": [
    "df_cafe.head()"
   ]
  },
  {
   "cell_type": "code",
   "execution_count": 5,
   "metadata": {},
   "outputs": [],
   "source": [
    "df_cafe = df_cafe.drop('Unnamed: 6', axis=1)"
   ]
  },
  {
   "cell_type": "code",
   "execution_count": 6,
   "metadata": {},
   "outputs": [
    {
     "data": {
      "text/html": [
       "<div>\n",
       "<style scoped>\n",
       "    .dataframe tbody tr th:only-of-type {\n",
       "        vertical-align: middle;\n",
       "    }\n",
       "\n",
       "    .dataframe tbody tr th {\n",
       "        vertical-align: top;\n",
       "    }\n",
       "\n",
       "    .dataframe thead th {\n",
       "        text-align: right;\n",
       "    }\n",
       "</style>\n",
       "<table border=\"1\" class=\"dataframe\">\n",
       "  <thead>\n",
       "    <tr style=\"text-align: right;\">\n",
       "      <th></th>\n",
       "      <th>지역</th>\n",
       "      <th>지역구</th>\n",
       "      <th>카페명</th>\n",
       "      <th>주소</th>\n",
       "      <th>위도</th>\n",
       "      <th>경도</th>\n",
       "    </tr>\n",
       "  </thead>\n",
       "  <tbody>\n",
       "    <tr>\n",
       "      <th>0</th>\n",
       "      <td>서서울</td>\n",
       "      <td>은평</td>\n",
       "      <td>스모어</td>\n",
       "      <td>서울 은평구 연서로29길 8-8</td>\n",
       "      <td>37.618952</td>\n",
       "      <td>126.919697</td>\n",
       "    </tr>\n",
       "    <tr>\n",
       "      <th>1</th>\n",
       "      <td>서서울</td>\n",
       "      <td>은평</td>\n",
       "      <td>필라멘트카페</td>\n",
       "      <td>서울 은평구 통일로 883</td>\n",
       "      <td>37.621753</td>\n",
       "      <td>126.919462</td>\n",
       "    </tr>\n",
       "    <tr>\n",
       "      <th>2</th>\n",
       "      <td>서서울</td>\n",
       "      <td>은평</td>\n",
       "      <td>HUGA</td>\n",
       "      <td>서울 은평구 진관2로 19</td>\n",
       "      <td>37.634753</td>\n",
       "      <td>126.919774</td>\n",
       "    </tr>\n",
       "    <tr>\n",
       "      <th>3</th>\n",
       "      <td>서서울</td>\n",
       "      <td>은평</td>\n",
       "      <td>YM Coffee Project</td>\n",
       "      <td>서울 은평구 연서로29길 21-8</td>\n",
       "      <td>37.619095</td>\n",
       "      <td>126.917542</td>\n",
       "    </tr>\n",
       "    <tr>\n",
       "      <th>4</th>\n",
       "      <td>서서울</td>\n",
       "      <td>은평</td>\n",
       "      <td>카페달력</td>\n",
       "      <td>서울 은평구 연서로18길 28-2</td>\n",
       "      <td>37.611930</td>\n",
       "      <td>126.920534</td>\n",
       "    </tr>\n",
       "  </tbody>\n",
       "</table>\n",
       "</div>"
      ],
      "text/plain": [
       "    지역 지역구                카페명                  주소         위도          경도\n",
       "0  서서울  은평                스모어   서울 은평구 연서로29길 8-8  37.618952  126.919697\n",
       "1  서서울  은평             필라멘트카페      서울 은평구 통일로 883  37.621753  126.919462\n",
       "2  서서울  은평               HUGA      서울 은평구 진관2로 19  37.634753  126.919774\n",
       "3  서서울  은평  YM Coffee Project  서울 은평구 연서로29길 21-8  37.619095  126.917542\n",
       "4  서서울  은평               카페달력  서울 은평구 연서로18길 28-2  37.611930  126.920534"
      ]
     },
     "execution_count": 6,
     "metadata": {},
     "output_type": "execute_result"
    }
   ],
   "source": [
    "df_cafe.head()"
   ]
  },
  {
   "cell_type": "code",
   "execution_count": 7,
   "metadata": {},
   "outputs": [],
   "source": [
    "area_names = {'ws' : ['ep', 'mp', 'sdm'],\n",
    "              'sw' : ['gs', 'yc', 'ydp', 'gr'],\n",
    "              'cs' : ['jr', 'jg', 'ys'],\n",
    "              'ss' : ['dj', 'ga', 'gc'],\n",
    "              'gn' : ['sc', 'gn'],\n",
    "              'gb' : ['db', 'gb', 'sb', 'nw'],\n",
    "              'es' : ['ddm', 'gl', 'sd', 'gj'],\n",
    "              'se' : ['gd', 'sp']\n",
    "             }\n",
    "# area_names['ws'][0]"
   ]
  },
  {
   "cell_type": "code",
   "execution_count": 8,
   "metadata": {},
   "outputs": [
    {
     "data": {
      "text/plain": [
       "'ws_ep_03.png'"
      ]
     },
     "execution_count": 8,
     "metadata": {},
     "output_type": "execute_result"
    }
   ],
   "source": [
    "path_list = [f'{k}_{v}_{i:02}.png'\n",
    "            for k in area_names.keys() \n",
    "            for v in area_names[k] \n",
    "            for i in range(1,14)]\n",
    "path_list[2]"
   ]
  },
  {
   "cell_type": "code",
   "execution_count": 9,
   "metadata": {},
   "outputs": [],
   "source": [
    "df_cafe['파일명'] = path_list"
   ]
  },
  {
   "cell_type": "code",
   "execution_count": 10,
   "metadata": {},
   "outputs": [
    {
     "data": {
      "text/html": [
       "<div>\n",
       "<style scoped>\n",
       "    .dataframe tbody tr th:only-of-type {\n",
       "        vertical-align: middle;\n",
       "    }\n",
       "\n",
       "    .dataframe tbody tr th {\n",
       "        vertical-align: top;\n",
       "    }\n",
       "\n",
       "    .dataframe thead th {\n",
       "        text-align: right;\n",
       "    }\n",
       "</style>\n",
       "<table border=\"1\" class=\"dataframe\">\n",
       "  <thead>\n",
       "    <tr style=\"text-align: right;\">\n",
       "      <th></th>\n",
       "      <th>지역</th>\n",
       "      <th>지역구</th>\n",
       "      <th>카페명</th>\n",
       "      <th>주소</th>\n",
       "      <th>위도</th>\n",
       "      <th>경도</th>\n",
       "      <th>파일명</th>\n",
       "    </tr>\n",
       "  </thead>\n",
       "  <tbody>\n",
       "    <tr>\n",
       "      <th>0</th>\n",
       "      <td>서서울</td>\n",
       "      <td>은평</td>\n",
       "      <td>스모어</td>\n",
       "      <td>서울 은평구 연서로29길 8-8</td>\n",
       "      <td>37.618952</td>\n",
       "      <td>126.919697</td>\n",
       "      <td>ws_ep_01.png</td>\n",
       "    </tr>\n",
       "    <tr>\n",
       "      <th>1</th>\n",
       "      <td>서서울</td>\n",
       "      <td>은평</td>\n",
       "      <td>필라멘트카페</td>\n",
       "      <td>서울 은평구 통일로 883</td>\n",
       "      <td>37.621753</td>\n",
       "      <td>126.919462</td>\n",
       "      <td>ws_ep_02.png</td>\n",
       "    </tr>\n",
       "    <tr>\n",
       "      <th>2</th>\n",
       "      <td>서서울</td>\n",
       "      <td>은평</td>\n",
       "      <td>HUGA</td>\n",
       "      <td>서울 은평구 진관2로 19</td>\n",
       "      <td>37.634753</td>\n",
       "      <td>126.919774</td>\n",
       "      <td>ws_ep_03.png</td>\n",
       "    </tr>\n",
       "    <tr>\n",
       "      <th>3</th>\n",
       "      <td>서서울</td>\n",
       "      <td>은평</td>\n",
       "      <td>YM Coffee Project</td>\n",
       "      <td>서울 은평구 연서로29길 21-8</td>\n",
       "      <td>37.619095</td>\n",
       "      <td>126.917542</td>\n",
       "      <td>ws_ep_04.png</td>\n",
       "    </tr>\n",
       "    <tr>\n",
       "      <th>4</th>\n",
       "      <td>서서울</td>\n",
       "      <td>은평</td>\n",
       "      <td>카페달력</td>\n",
       "      <td>서울 은평구 연서로18길 28-2</td>\n",
       "      <td>37.611930</td>\n",
       "      <td>126.920534</td>\n",
       "      <td>ws_ep_05.png</td>\n",
       "    </tr>\n",
       "  </tbody>\n",
       "</table>\n",
       "</div>"
      ],
      "text/plain": [
       "    지역 지역구                카페명                  주소         위도          경도  \\\n",
       "0  서서울  은평                스모어   서울 은평구 연서로29길 8-8  37.618952  126.919697   \n",
       "1  서서울  은평             필라멘트카페      서울 은평구 통일로 883  37.621753  126.919462   \n",
       "2  서서울  은평               HUGA      서울 은평구 진관2로 19  37.634753  126.919774   \n",
       "3  서서울  은평  YM Coffee Project  서울 은평구 연서로29길 21-8  37.619095  126.917542   \n",
       "4  서서울  은평               카페달력  서울 은평구 연서로18길 28-2  37.611930  126.920534   \n",
       "\n",
       "            파일명  \n",
       "0  ws_ep_01.png  \n",
       "1  ws_ep_02.png  \n",
       "2  ws_ep_03.png  \n",
       "3  ws_ep_04.png  \n",
       "4  ws_ep_05.png  "
      ]
     },
     "execution_count": 10,
     "metadata": {},
     "output_type": "execute_result"
    }
   ],
   "source": [
    "df_cafe.head()"
   ]
  },
  {
   "cell_type": "code",
   "execution_count": 11,
   "metadata": {},
   "outputs": [
    {
     "data": {
      "text/html": [
       "<div>\n",
       "<style scoped>\n",
       "    .dataframe tbody tr th:only-of-type {\n",
       "        vertical-align: middle;\n",
       "    }\n",
       "\n",
       "    .dataframe tbody tr th {\n",
       "        vertical-align: top;\n",
       "    }\n",
       "\n",
       "    .dataframe thead th {\n",
       "        text-align: right;\n",
       "    }\n",
       "</style>\n",
       "<table border=\"1\" class=\"dataframe\">\n",
       "  <thead>\n",
       "    <tr style=\"text-align: right;\">\n",
       "      <th></th>\n",
       "      <th>지역</th>\n",
       "      <th>지역구</th>\n",
       "      <th>카페명</th>\n",
       "      <th>주소</th>\n",
       "      <th>위도</th>\n",
       "      <th>경도</th>\n",
       "      <th>파일명</th>\n",
       "    </tr>\n",
       "  </thead>\n",
       "  <tbody>\n",
       "    <tr>\n",
       "      <th>320</th>\n",
       "      <td>동남</td>\n",
       "      <td>송파</td>\n",
       "      <td>카페단지</td>\n",
       "      <td>서울 송파구 백제고분로45길 12</td>\n",
       "      <td>37.509586</td>\n",
       "      <td>127.110133</td>\n",
       "      <td>se_sp_09.png</td>\n",
       "    </tr>\n",
       "    <tr>\n",
       "      <th>321</th>\n",
       "      <td>동남</td>\n",
       "      <td>송파</td>\n",
       "      <td>어나더선데이</td>\n",
       "      <td>서울 송파구 송파대로48길 3</td>\n",
       "      <td>37.508446</td>\n",
       "      <td>127.104935</td>\n",
       "      <td>se_sp_10.png</td>\n",
       "    </tr>\n",
       "    <tr>\n",
       "      <th>322</th>\n",
       "      <td>동남</td>\n",
       "      <td>송파</td>\n",
       "      <td>벨라스가든</td>\n",
       "      <td>서울 송파구 백제고분로41길 42-19</td>\n",
       "      <td>37.510044</td>\n",
       "      <td>127.106276</td>\n",
       "      <td>se_sp_11.png</td>\n",
       "    </tr>\n",
       "    <tr>\n",
       "      <th>323</th>\n",
       "      <td>동남</td>\n",
       "      <td>송파</td>\n",
       "      <td>고고스</td>\n",
       "      <td>서울 송파구 석촌호수로 197</td>\n",
       "      <td>37.509240</td>\n",
       "      <td>127.099154</td>\n",
       "      <td>se_sp_12.png</td>\n",
       "    </tr>\n",
       "    <tr>\n",
       "      <th>324</th>\n",
       "      <td>동남</td>\n",
       "      <td>송파</td>\n",
       "      <td>파티세리 도효</td>\n",
       "      <td>서울 송파구 오금로16길 10</td>\n",
       "      <td>37.510768</td>\n",
       "      <td>127.108722</td>\n",
       "      <td>se_sp_13.png</td>\n",
       "    </tr>\n",
       "  </tbody>\n",
       "</table>\n",
       "</div>"
      ],
      "text/plain": [
       "     지역 지역구      카페명                     주소         위도          경도  \\\n",
       "320  동남  송파     카페단지     서울 송파구 백제고분로45길 12  37.509586  127.110133   \n",
       "321  동남  송파   어나더선데이       서울 송파구 송파대로48길 3  37.508446  127.104935   \n",
       "322  동남  송파    벨라스가든  서울 송파구 백제고분로41길 42-19  37.510044  127.106276   \n",
       "323  동남  송파      고고스       서울 송파구 석촌호수로 197  37.509240  127.099154   \n",
       "324  동남  송파  파티세리 도효       서울 송파구 오금로16길 10  37.510768  127.108722   \n",
       "\n",
       "              파일명  \n",
       "320  se_sp_09.png  \n",
       "321  se_sp_10.png  \n",
       "322  se_sp_11.png  \n",
       "323  se_sp_12.png  \n",
       "324  se_sp_13.png  "
      ]
     },
     "execution_count": 11,
     "metadata": {},
     "output_type": "execute_result"
    }
   ],
   "source": [
    "df_cafe.tail()"
   ]
  },
  {
   "cell_type": "code",
   "execution_count": 12,
   "metadata": {},
   "outputs": [],
   "source": [
    "df_cafe.to_csv('final_cafe_info_with_path.csv')"
   ]
  },
  {
   "cell_type": "code",
   "execution_count": 13,
   "metadata": {},
   "outputs": [],
   "source": [
    "def centroid_histogram(clt):\n",
    "    '''\n",
    "    # grab the number of different clusters and create a histogram\n",
    "    히스토그램 형식으로 색을 반환\n",
    "    based on the number of pixels assigned to each cluster\n",
    "    각 클러스터의 픽셀의 숫자를 기반으로 함\n",
    "    '''\n",
    "    numLabels = np.arange(0, len(np.unique(clt.labels_)) + 1)\n",
    "    (hist, _) = np.histogram(clt.labels_, bins=numLabels)\n",
    "\n",
    "    # normalize the histogram, such that it sums to one\n",
    "    hist = hist.astype(\"float\")\n",
    "    hist /= hist.sum()  # hist = hist/hist.sum()\n",
    "\n",
    "    # return the histogram\n",
    "    return hist"
   ]
  },
  {
   "cell_type": "code",
   "execution_count": 14,
   "metadata": {},
   "outputs": [],
   "source": [
    "def plot_colors(hist, centroids):\n",
    "    '''\n",
    "    initialize the bar chart representing the relative frequency of each of the colors\n",
    "    각 색의 빈도를 나타내는 바 차트를 초기화\n",
    "    '''\n",
    "    bar = np.zeros((50, 300, 3), dtype=\"uint8\")\n",
    "    startX = 0\n",
    "\n",
    "    # loop over the percentage of each cluster and the color of each cluster\n",
    "    for (percent, color) in zip(hist, centroids):\n",
    "        # plot the relative percentage of each cluster\n",
    "        endX = startX + (percent * 300)\n",
    "        cv2.rectangle(bar, (int(startX), 0), (int(endX), 50),\n",
    "                      color.astype(\"uint8\").tolist(), -1)\n",
    "        startX = endX\n",
    "\n",
    "    # return the bar chart\n",
    "    return bar"
   ]
  },
  {
   "cell_type": "code",
   "execution_count": 15,
   "metadata": {},
   "outputs": [],
   "source": [
    "def image_color_cluster(image_path, k = 5):\n",
    "    image = cv2.imread(image_path)\n",
    "    # image의 shape을 찍어보면, height, width, channel 순으로 나옴\n",
    "    # channel은 RGB를 말함\n",
    "    image = cv2.cvtColor(image, cv2.COLOR_BGR2RGB)\n",
    "    # cv에서는 RGB가 아닌 BGR 순으로 나오기 때문에 순서를 RGB로 전환\n",
    "    image = image.reshape((image.shape[0] * image.shape[1], 3))\n",
    "    # shape의 0,1번째 즉, height와 width를 통합시킴\n",
    "    \n",
    "    clt = KMeans(n_clusters = k)  # 평균 알고리즘 KMeans\n",
    "    clt.fit(image)\n",
    "\n",
    "    hist = centroid_histogram(clt)\n",
    "    bar = plot_colors(hist, clt.cluster_centers_)\n",
    "    return bar"
   ]
  },
  {
   "cell_type": "code",
   "execution_count": 16,
   "metadata": {},
   "outputs": [
    {
     "data": {
      "text/plain": [
       "'es_gl_09.png'"
      ]
     },
     "execution_count": 16,
     "metadata": {},
     "output_type": "execute_result"
    }
   ],
   "source": [
    "path_list[268]"
   ]
  },
  {
   "cell_type": "code",
   "execution_count": 17,
   "metadata": {},
   "outputs": [
    {
     "name": "stderr",
     "output_type": "stream",
     "text": [
      "C:\\Users\\rlath\\Anaconda3\\lib\\site-packages\\ipykernel_launcher.py:3: DeprecationWarning: `imsave` is deprecated!\n",
      "`imsave` is deprecated in SciPy 1.0.0, and will be removed in 1.2.0.\n",
      "Use ``imageio.imwrite`` instead.\n",
      "  This is separate from the ipykernel package so we can avoid doing imports until\n"
     ]
    }
   ],
   "source": [
    "for index in range(268, len(path_list)):\n",
    "    result = image_color_cluster('./cafe_image/'+path_list[index])\n",
    "    scipy.misc.imsave('./cafe_color_result/'+path_list[index], result)"
   ]
  },
  {
   "cell_type": "code",
   "execution_count": null,
   "metadata": {},
   "outputs": [],
   "source": []
  }
 ],
 "metadata": {
  "kernelspec": {
   "display_name": "Python 3",
   "language": "python",
   "name": "python3"
  },
  "language_info": {
   "codemirror_mode": {
    "name": "ipython",
    "version": 3
   },
   "file_extension": ".py",
   "mimetype": "text/x-python",
   "name": "python",
   "nbconvert_exporter": "python",
   "pygments_lexer": "ipython3",
   "version": "3.6.5"
  }
 },
 "nbformat": 4,
 "nbformat_minor": 2
}
