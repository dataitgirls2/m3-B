{
 "cells": [
  {
   "cell_type": "code",
   "execution_count": 4,
   "metadata": {},
   "outputs": [],
   "source": [
    "import pandas as pd"
   ]
  },
  {
   "cell_type": "code",
   "execution_count": 5,
   "metadata": {},
   "outputs": [
    {
     "name": "stdout",
     "output_type": "stream",
     "text": [
      " C 드라이브의 볼륨: Windows\n",
      " 볼륨 일련 번호: 44EC-5869\n",
      "\n",
      " C:\\Users\\rlath\\JupyterNotebook\\m3 project 디렉터리\n",
      "\n",
      "2018-08-29  오전 01:28    <DIR>          .\n",
      "2018-08-29  오전 01:28    <DIR>          ..\n",
      "2018-08-29  오전 01:28    <DIR>          .ipynb_checkpoints\n",
      "2018-08-20  오후 02:31            10,024 Alan.png\n",
      "2018-08-20  오후 02:38    <DIR>          cafe_color_result\n",
      "2018-08-17  오후 12:03    <DIR>          cafe_image\n",
      "2018-08-21  오후 04:47           639,185 code_cafe_color_map_soryeong_ver01.ipynb\n",
      "2018-08-25  오후 02:49           649,701 code_cafe_color_map_soryeong_ver02.ipynb\n",
      "2018-08-25  오후 04:38            14,272 code_cafe_color_map_soryeong_ver03.ipynb\n",
      "2018-08-28  오후 03:02           842,083 code_cafe_color_map_soryeong_ver04.ipynb\n",
      "2018-08-28  오후 03:03            15,899 code_cafe_color_tidy_data_soryeong_ver01.ipynb\n",
      "2018-08-20  오후 04:32            87,151 code_folium_soryeong_ver01.ipynb\n",
      "2018-08-20  오후 04:32           475,550 code_folium_soryeong_ver02.ipynb\n",
      "2018-08-20  오후 05:27            14,191 code_folium_soryeong_ver03.ipynb\n",
      "2018-08-20  오후 05:37           637,279 code_folium_soryeong_ver04.ipynb\n",
      "2018-08-21  오후 03:43           637,616 code_folium_soryeong_ver05.ipynb\n",
      "2018-08-27  오전 11:16           934,024 code_ggplot_soryeong_ver01.ipynb\n",
      "2018-08-17  오전 10:24            62,903 code_ImgCluster_soryeong_ver07.ipynb\n",
      "2018-08-28  오후 07:35            27,078 code_ImgCluster_soryeong_ver08.ipynb\n",
      "2018-08-28  오후 02:57            46,969 final_cafe_color_tidy_data.csv\n",
      "2018-08-17  오전 11:33            44,697 final_cafe_info.csv\n",
      "2018-08-26  오후 05:10            36,888 final_cafe_info_with_path.csv\n",
      "2018-08-28  오전 09:42           616,823 final_color_map.html\n",
      "2018-08-29  오전 01:24            20,875 html_cafe_color_map_soryeong_ver01.html\n",
      "2018-08-29  오전 01:27             1,749 html_list.py\n",
      "2018-08-09  오후 03:01       212,900,223 open_data_shop.csv\n",
      "2018-08-29  오전 01:28                72 Untitled.ipynb\n",
      "              22개 파일         218,715,252 바이트\n",
      "               5개 디렉터리  184,177,225,728 바이트 남음\n"
     ]
    }
   ],
   "source": [
    "%ls"
   ]
  },
  {
   "cell_type": "code",
   "execution_count": 6,
   "metadata": {},
   "outputs": [],
   "source": [
    "df_cafe = pd.read_csv('final_cafe_color_tidy_data.csv')"
   ]
  },
  {
   "cell_type": "code",
   "execution_count": 9,
   "metadata": {},
   "outputs": [],
   "source": [
    "df_cafe = df_cafe.drop('Unnamed: 0', axis=1)"
   ]
  },
  {
   "cell_type": "code",
   "execution_count": 10,
   "metadata": {},
   "outputs": [
    {
     "data": {
      "text/html": [
       "<div>\n",
       "<style scoped>\n",
       "    .dataframe tbody tr th:only-of-type {\n",
       "        vertical-align: middle;\n",
       "    }\n",
       "\n",
       "    .dataframe tbody tr th {\n",
       "        vertical-align: top;\n",
       "    }\n",
       "\n",
       "    .dataframe thead th {\n",
       "        text-align: right;\n",
       "    }\n",
       "</style>\n",
       "<table border=\"1\" class=\"dataframe\">\n",
       "  <thead>\n",
       "    <tr style=\"text-align: right;\">\n",
       "      <th></th>\n",
       "      <th>지역</th>\n",
       "      <th>지역구</th>\n",
       "      <th>카페명</th>\n",
       "      <th>주소</th>\n",
       "      <th>위도</th>\n",
       "      <th>경도</th>\n",
       "      <th>파일명</th>\n",
       "      <th>1번 색</th>\n",
       "      <th>2번 색</th>\n",
       "      <th>3번 색</th>\n",
       "      <th>4번 색</th>\n",
       "      <th>5번 색</th>\n",
       "    </tr>\n",
       "  </thead>\n",
       "  <tbody>\n",
       "    <tr>\n",
       "      <th>0</th>\n",
       "      <td>서서울</td>\n",
       "      <td>은평</td>\n",
       "      <td>스모어</td>\n",
       "      <td>서울 은평구 연서로29길 8-8</td>\n",
       "      <td>37.618952</td>\n",
       "      <td>126.919697</td>\n",
       "      <td>ws_ep_01.png</td>\n",
       "      <td>dbd6cc</td>\n",
       "      <td>c7b29a</td>\n",
       "      <td>231a14</td>\n",
       "      <td>ab8f73</td>\n",
       "      <td>644f3f</td>\n",
       "    </tr>\n",
       "    <tr>\n",
       "      <th>1</th>\n",
       "      <td>서서울</td>\n",
       "      <td>은평</td>\n",
       "      <td>필라멘트카페</td>\n",
       "      <td>서울 은평구 통일로 883</td>\n",
       "      <td>37.621753</td>\n",
       "      <td>126.919462</td>\n",
       "      <td>ws_ep_02.png</td>\n",
       "      <td>201d1e</td>\n",
       "      <td>9d7653</td>\n",
       "      <td>5f4939</td>\n",
       "      <td>cead7d</td>\n",
       "      <td>e7e4cf</td>\n",
       "    </tr>\n",
       "    <tr>\n",
       "      <th>2</th>\n",
       "      <td>서서울</td>\n",
       "      <td>은평</td>\n",
       "      <td>HUGA</td>\n",
       "      <td>서울 은평구 진관2로 19</td>\n",
       "      <td>37.634753</td>\n",
       "      <td>126.919774</td>\n",
       "      <td>ws_ep_03.png</td>\n",
       "      <td>36a17c</td>\n",
       "      <td>8ebda8</td>\n",
       "      <td>e5e7df</td>\n",
       "      <td>6f6c49</td>\n",
       "      <td>272b15</td>\n",
       "    </tr>\n",
       "    <tr>\n",
       "      <th>3</th>\n",
       "      <td>서서울</td>\n",
       "      <td>은평</td>\n",
       "      <td>YM Coffee Project</td>\n",
       "      <td>서울 은평구 연서로29길 21-8</td>\n",
       "      <td>37.619095</td>\n",
       "      <td>126.917542</td>\n",
       "      <td>ws_ep_04.png</td>\n",
       "      <td>cab9ab</td>\n",
       "      <td>e9dfd8</td>\n",
       "      <td>403126</td>\n",
       "      <td>af8b6d</td>\n",
       "      <td>84634c</td>\n",
       "    </tr>\n",
       "    <tr>\n",
       "      <th>4</th>\n",
       "      <td>서서울</td>\n",
       "      <td>은평</td>\n",
       "      <td>카페달력</td>\n",
       "      <td>서울 은평구 연서로18길 28-2</td>\n",
       "      <td>37.611930</td>\n",
       "      <td>126.920534</td>\n",
       "      <td>ws_ep_05.png</td>\n",
       "      <td>e8ddd1</td>\n",
       "      <td>d3c0af</td>\n",
       "      <td>b19c89</td>\n",
       "      <td>5a432c</td>\n",
       "      <td>917457</td>\n",
       "    </tr>\n",
       "  </tbody>\n",
       "</table>\n",
       "</div>"
      ],
      "text/plain": [
       "    지역 지역구                카페명                  주소         위도          경도  \\\n",
       "0  서서울  은평                스모어   서울 은평구 연서로29길 8-8  37.618952  126.919697   \n",
       "1  서서울  은평             필라멘트카페      서울 은평구 통일로 883  37.621753  126.919462   \n",
       "2  서서울  은평               HUGA      서울 은평구 진관2로 19  37.634753  126.919774   \n",
       "3  서서울  은평  YM Coffee Project  서울 은평구 연서로29길 21-8  37.619095  126.917542   \n",
       "4  서서울  은평               카페달력  서울 은평구 연서로18길 28-2  37.611930  126.920534   \n",
       "\n",
       "            파일명    1번 색    2번 색    3번 색    4번 색    5번 색  \n",
       "0  ws_ep_01.png  dbd6cc  c7b29a  231a14  ab8f73  644f3f  \n",
       "1  ws_ep_02.png  201d1e  9d7653  5f4939  cead7d  e7e4cf  \n",
       "2  ws_ep_03.png  36a17c  8ebda8  e5e7df  6f6c49  272b15  \n",
       "3  ws_ep_04.png  cab9ab  e9dfd8  403126  af8b6d  84634c  \n",
       "4  ws_ep_05.png  e8ddd1  d3c0af  b19c89  5a432c  917457  "
      ]
     },
     "execution_count": 10,
     "metadata": {},
     "output_type": "execute_result"
    }
   ],
   "source": [
    "df_cafe.head()"
   ]
  },
  {
   "cell_type": "code",
   "execution_count": 24,
   "metadata": {},
   "outputs": [
    {
     "data": {
      "text/plain": [
       "['은평',\n",
       " '마포',\n",
       " '서대문',\n",
       " '강서',\n",
       " '양천',\n",
       " '영등포',\n",
       " '구로',\n",
       " '종로',\n",
       " '중구',\n",
       " '용산',\n",
       " '동작',\n",
       " '관악',\n",
       " '금천',\n",
       " '서초',\n",
       " '강남',\n",
       " '도봉',\n",
       " '강북',\n",
       " '성북',\n",
       " '노원',\n",
       " '동대문',\n",
       " '중랑',\n",
       " '성동',\n",
       " '광진',\n",
       " '강동',\n",
       " '송파']"
      ]
     },
     "execution_count": 24,
     "metadata": {},
     "output_type": "execute_result"
    }
   ],
   "source": [
    "# unique_area = [df_cafe['지역구'][i] for i in df_cafe.index if df_cafe['지역구'][i] not in unique_area]\n",
    "unique_area = []\n",
    "for i in df_cafe.index:\n",
    "    if df_cafe['지역구'][i] not in unique_area:\n",
    "        unique_area.append(df_cafe['지역구'][i])\n",
    "unique_area"
   ]
  },
  {
   "cell_type": "code",
   "execution_count": 30,
   "metadata": {},
   "outputs": [],
   "source": [
    "area_names = {'ws' : ['ep', 'mp', 'sdm'],\n",
    "              'sw' : ['gs', 'yc', 'ydp', 'gr'],\n",
    "              'cs' : ['jr', 'jg', 'ys'],\n",
    "              'ss' : ['dj', 'ga', 'gc'],\n",
    "              'gn' : ['sc', 'gn'],\n",
    "              'gb' : ['db', 'gb', 'sb', 'nw'],\n",
    "              'es' : ['ddm', 'gl', 'sd', 'gj'],\n",
    "              'se' : ['gd', 'sp']\n",
    "             }\n",
    "\n",
    "eng_path_list = [f'{k}_{v}'\n",
    "            for k in area_names.keys()\n",
    "            for v in area_names[k]]"
   ]
  },
  {
   "cell_type": "code",
   "execution_count": 35,
   "metadata": {},
   "outputs": [],
   "source": [
    "html_anchor = {}\n",
    "for area, path in zip(unique_area, eng_path_list):\n",
    "    html_anchor[area] = path"
   ]
  },
  {
   "cell_type": "code",
   "execution_count": 36,
   "metadata": {},
   "outputs": [
    {
     "data": {
      "text/plain": [
       "{'은평': 'ws_ep',\n",
       " '마포': 'ws_mp',\n",
       " '서대문': 'ws_sdm',\n",
       " '강서': 'sw_gs',\n",
       " '양천': 'sw_yc',\n",
       " '영등포': 'sw_ydp',\n",
       " '구로': 'sw_gr',\n",
       " '종로': 'cs_jr',\n",
       " '중구': 'cs_jg',\n",
       " '용산': 'cs_ys',\n",
       " '동작': 'ss_dj',\n",
       " '관악': 'ss_ga',\n",
       " '금천': 'ss_gc',\n",
       " '서초': 'gn_sc',\n",
       " '강남': 'gn_gn',\n",
       " '도봉': 'gb_db',\n",
       " '강북': 'gb_gb',\n",
       " '성북': 'gb_sb',\n",
       " '노원': 'gb_nw',\n",
       " '동대문': 'es_ddm',\n",
       " '중랑': 'es_gl',\n",
       " '성동': 'es_sd',\n",
       " '광진': 'es_gj',\n",
       " '강동': 'se_gd',\n",
       " '송파': 'se_sp'}"
      ]
     },
     "execution_count": 36,
     "metadata": {},
     "output_type": "execute_result"
    }
   ],
   "source": [
    "html_anchor"
   ]
  },
  {
   "cell_type": "code",
   "execution_count": 39,
   "metadata": {},
   "outputs": [],
   "source": [
    "anchor_dict = {\\\n",
    "'은평': 'ws_ep', '마포': 'ws_mp', '서대문': 'ws_sdm', '강서': 'sw_gs',\\\n",
    "'양천': 'sw_yc', '영등포': 'sw_ydp', '구로': 'sw_gr', '종로': 'cs_jr',\\\n",
    "'중구': 'cs_jg', '용산': 'cs_ys', '동작': 'ss_dj', '관악': 'ss_ga',\\\n",
    "'금천': 'ss_gc', '서초': 'gn_sc', '강남': 'gn_gn', '도봉': 'gb_db',\\\n",
    "'강북': 'gb_gb', '성북': 'gb_sb', '노원': 'gb_nw', '동대문': 'es_ddm',\\\n",
    "'중랑': 'es_gl', '성동': 'es_sd', '광진': 'es_gj', '강동': 'se_gd', '송파': 'se_sp'}\n",
    "\n",
    "html_anchors = ''\n",
    "for area, path in anchor_dict.items():\n",
    "    html_anchors += f'<a href=\"#{path}\">{area} </a>'"
   ]
  },
  {
   "cell_type": "code",
   "execution_count": 40,
   "metadata": {},
   "outputs": [
    {
     "data": {
      "text/plain": [
       "'<a href=\"#ws_ep\">은평 </a><a href=\"#ws_mp\">마포 </a><a href=\"#ws_sdm\">서대문 </a><a href=\"#sw_gs\">강서 </a><a href=\"#sw_yc\">양천 </a><a href=\"#sw_ydp\">영등포 </a><a href=\"#sw_gr\">구로 </a><a href=\"#cs_jr\">종로 </a><a href=\"#cs_jg\">중구 </a><a href=\"#cs_ys\">용산 </a><a href=\"#ss_dj\">동작 </a><a href=\"#ss_ga\">관악 </a><a href=\"#ss_gc\">금천 </a><a href=\"#gn_sc\">서초 </a><a href=\"#gn_gn\">강남 </a><a href=\"#gb_db\">도봉 </a><a href=\"#gb_gb\">강북 </a><a href=\"#gb_sb\">성북 </a><a href=\"#gb_nw\">노원 </a><a href=\"#es_ddm\">동대문 </a><a href=\"#es_gl\">중랑 </a><a href=\"#es_sd\">성동 </a><a href=\"#es_gj\">광진 </a><a href=\"#se_gd\">강동 </a><a href=\"#se_sp\">송파 </a>'"
      ]
     },
     "execution_count": 40,
     "metadata": {},
     "output_type": "execute_result"
    }
   ],
   "source": [
    "html_anchors"
   ]
  },
  {
   "cell_type": "code",
   "execution_count": 48,
   "metadata": {},
   "outputs": [],
   "source": [
    "anchors = '<a href=\"#se_gd\"> 강동구 </a>, <a href=\"#ws_ep\"> 은평 </a>, <a href=\"#ws_mp\"> 마포 </a>, <a href=\"#ws_sdm\"> 서대문 </a>, \\\n",
    "<a href=\"#sw_gs\"> 강서 </a>, <a href=\"#sw_yc\"> 양천 </a>, <a href=\"#sw_ydp\"> 영등포 </a>, <a href=\"#sw_gr\"> 구로 </a>, \\\n",
    "<a href=\"#cs_jr\"> 종로 </a>, <a href=\"#cs_jg\"> 중구 </a>, <a href=\"#cs_ys\"> 용산 </a>, <a href=\"#ss_dj\"> 동작 </a>, \\\n",
    "<a href=\"#ss_ga\"> 관악 </a>, <a href=\"#ss_gc\"> 금천 </a>, <a href=\"#gn_sc\"> 서초 </a>, <a href=\"#gn_gn\"> 강남 </a>, \\\n",
    "<a href=\"#gb_db\"> 도봉 </a>, <a href=\"#gb_gb\"> 강북 </a>, <a href=\"#gb_sb\"> 성북 </a>, <a href=\"#gb_nw\"> 노원 </a>, \\\n",
    "<a href=\"#es_ddm\"> 동대문 </a>, <a href=\"#es_gl\"> 중랑 </a>, <a href=\"#es_sd\"> 성동 </a>, <a href=\"#es_gj\"> 광진 </a>, \\\n",
    "<a href=\"#se_gd\"> 강동 </a>, <a href=\"#se_sp\"> 송파 </a>'.split(', ')"
   ]
  },
  {
   "cell_type": "code",
   "execution_count": 49,
   "metadata": {},
   "outputs": [
    {
     "data": {
      "text/plain": [
       "['<a href=\"#gn_gn\"> 강남 </a>',\n",
       " '<a href=\"#se_gd\"> 강동 </a>',\n",
       " '<a href=\"#se_gd\"> 강동구 </a>',\n",
       " '<a href=\"#gb_gb\"> 강북 </a>',\n",
       " '<a href=\"#sw_gs\"> 강서 </a>',\n",
       " '<a href=\"#ss_ga\"> 관악 </a>',\n",
       " '<a href=\"#es_gj\"> 광진 </a>',\n",
       " '<a href=\"#sw_gr\"> 구로 </a>',\n",
       " '<a href=\"#ss_gc\"> 금천 </a>',\n",
       " '<a href=\"#gb_nw\"> 노원 </a>',\n",
       " '<a href=\"#gb_db\"> 도봉 </a>',\n",
       " '<a href=\"#es_ddm\"> 동대문 </a>',\n",
       " '<a href=\"#ss_dj\"> 동작 </a>',\n",
       " '<a href=\"#ws_mp\"> 마포 </a>',\n",
       " '<a href=\"#ws_sdm\"> 서대문 </a>',\n",
       " '<a href=\"#gn_sc\"> 서초 </a>',\n",
       " '<a href=\"#es_sd\"> 성동 </a>',\n",
       " '<a href=\"#gb_sb\"> 성북 </a>',\n",
       " '<a href=\"#se_sp\"> 송파 </a>',\n",
       " '<a href=\"#sw_yc\"> 양천 </a>',\n",
       " '<a href=\"#sw_ydp\"> 영등포 </a>',\n",
       " '<a href=\"#cs_ys\"> 용산 </a>',\n",
       " '<a href=\"#ws_ep\"> 은평 </a>',\n",
       " '<a href=\"#cs_jr\"> 종로 </a>',\n",
       " '<a href=\"#cs_jg\"> 중구 </a>',\n",
       " '<a href=\"#es_gl\"> 중랑 </a>']"
      ]
     },
     "execution_count": 49,
     "metadata": {},
     "output_type": "execute_result"
    }
   ],
   "source": [
    "sorted(anchors, key=lambda a:a.split('> ')[1])"
   ]
  },
  {
   "cell_type": "code",
   "execution_count": null,
   "metadata": {},
   "outputs": [],
   "source": []
  }
 ],
 "metadata": {
  "kernelspec": {
   "display_name": "Python 3",
   "language": "python",
   "name": "python3"
  },
  "language_info": {
   "codemirror_mode": {
    "name": "ipython",
    "version": 3
   },
   "file_extension": ".py",
   "mimetype": "text/x-python",
   "name": "python",
   "nbconvert_exporter": "python",
   "pygments_lexer": "ipython3",
   "version": "3.6.5"
  }
 },
 "nbformat": 4,
 "nbformat_minor": 2
}
