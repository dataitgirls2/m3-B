{
 "cells": [
  {
   "cell_type": "markdown",
   "metadata": {},
   "source": [
    "# 이미지 클러스터\n",
    "\n",
    "1. 이미지를 RGB순으로 읽어오기\n",
    "2. 군집수를 지정하여 Kmeans라는 평균 알고리즘으로 비슷한 색끼리 모은 군집을 지정된 수만큼 만들어냄\n",
    "3. 픽셀의 숫자를 기반으로 히스토그램 형식으로 색을 반환\n",
    "4. 각 색의 빈도를 나타내는 바를 반환"
   ]
  },
  {
   "cell_type": "code",
   "execution_count": null,
   "metadata": {},
   "outputs": [],
   "source": [
    "import cv2\n",
    "import matplotlib.pyplot as plt\n",
    "import matplotlib.image as mpimg\n",
    "import pandas as pd\n",
    "import numpy as np\n",
    "from sklearn.cluster import KMeans\n",
    "import scipy.misc"
   ]
  },
  {
   "cell_type": "code",
   "execution_count": null,
   "metadata": {},
   "outputs": [],
   "source": [
    "def centroid_histogram(clt):\n",
    "    '''\n",
    "    # grab the number of different clusters and create a histogram\n",
    "    히스토그램 형식으로 색을 반환\n",
    "    based on the number of pixels assigned to each cluster\n",
    "    각 클러스터의 픽셀의 숫자를 기반으로 함\n",
    "    '''\n",
    "    numLabels = np.arange(0, len(np.unique(clt.labels_)) + 1)\n",
    "    (hist, _) = np.histogram(clt.labels_, bins=numLabels)\n",
    "\n",
    "    # normalize the histogram, such that it sums to one\n",
    "    hist = hist.astype(\"float\")\n",
    "    hist /= hist.sum()  # hist = hist/hist.sum()\n",
    "\n",
    "    # return the histogram\n",
    "    return hist"
   ]
  },
  {
   "cell_type": "code",
   "execution_count": null,
   "metadata": {},
   "outputs": [],
   "source": [
    "def plot_colors(hist, centroids):\n",
    "    '''\n",
    "    initialize the bar chart representing the relative frequency of each of the colors\n",
    "    각 색의 빈도를 나타내는 바 차트를 초기화\n",
    "    '''\n",
    "    bar = np.zeros((50, 300, 3), dtype=\"uint8\")\n",
    "    startX = 0\n",
    "\n",
    "    # loop over the percentage of each cluster and the color of each cluster\n",
    "    for (percent, color) in zip(hist, centroids):\n",
    "        # plot the relative percentage of each cluster\n",
    "        endX = startX + (percent * 300)\n",
    "        cv2.rectangle(bar, (int(startX), 0), (int(endX), 50),\n",
    "                      color.astype(\"uint8\").tolist(), -1)\n",
    "        startX = endX\n",
    "\n",
    "    # return the bar chart\n",
    "    return bar"
   ]
  },
  {
   "cell_type": "code",
   "execution_count": null,
   "metadata": {},
   "outputs": [],
   "source": [
    "def image_color_cluster(image_path, k = 5):\n",
    "    image = cv2.imread(image_path)\n",
    "    # image의 shape을 찍어보면, height, width, channel 순으로 나옴\n",
    "    # channel은 RGB를 말함\n",
    "    image = cv2.cvtColor(image, cv2.COLOR_BGR2RGB)\n",
    "    # cv에서는 RGB가 아닌 BGR 순으로 나오기 때문에 순서를 RGB로 전환\n",
    "    image = image.reshape((image.shape[0] * image.shape[1], 3))\n",
    "    # shape의 0,1번째 즉, height와 width를 통합시킴\n",
    "\n",
    "    clt = KMeans(n_clusters = k)  # 평균 알고리즘 KMeans\n",
    "    clt.fit(image)\n",
    "\n",
    "    hist = centroid_histogram(clt)\n",
    "    bar = plot_colors(hist, clt.cluster_centers_)\n",
    "    return bar"
   ]
  },
  {
   "cell_type": "markdown",
   "metadata": {},
   "source": [
    "# DataFrame 만들기\n",
    "\n",
    "1. 매장 외부와 음식사진을 제외한 내부 인테리어가 잘 나온 이미지 사진만을 가져오기 위해서 크롤러 대신 수작업을 선택했습니다.\n",
    "2. 각자의 구역을 대분류(도심, 서서울, 남서울 등)와 소분류(은평구, 마포구, 동작구 등)로 나누어 하루 10개씩 작업하였습니다.\n",
    "3. 모든 이미지 파일은 **'대분류\\_소분류\\_인덱스.png'**\\로 통일했습니다.\n",
    "\n",
    "![구글스프레드시트01](google_spreadsheet_01.png)\n",
    "\n",
    "4. 이미지 수집을 끝내야하는 시점에는 가장 많은 수의 이미지를 가져온 사람을 기준으로 수를 통일했습니다.(지역별 13개씩)\n",
    "\n",
    "![구글스프레드시트02](google_spreadsheet_02.png)\n",
    "\n",
    "5. 스프레드시트에서 제공하는 기능을 이용해 위도와 경도를 구했습니다.\n",
    "6. 이를 한데 모아 csv로 파일로 저장했습니다."
   ]
  },
  {
   "cell_type": "markdown",
   "metadata": {},
   "source": [
    "저장한 이미지들을 모은 폴더입니다.\n",
    "\n",
    "![이미지폴더](cafe_image_folder.png)"
   ]
  },
  {
   "cell_type": "code",
   "execution_count": null,
   "metadata": {},
   "outputs": [],
   "source": [
    "df_cafe = pd.read_csv('final_cafe_info.csv')\n",
    "df_cafe = df_cafe.drop('Unnamed: 6', axis=1)\n",
    "\n",
    "df_cafe.head(10)"
   ]
  },
  {
   "cell_type": "markdown",
   "metadata": {},
   "source": [
    "이미지 파일명을 각각에 지정했습니다."
   ]
  },
  {
   "cell_type": "code",
   "execution_count": null,
   "metadata": {},
   "outputs": [],
   "source": [
    "area_names = {'ws' : ['ep', 'mp', 'sdm'],\n",
    "              'sw' : ['gs', 'ys', 'ydp', 'gr'],\n",
    "              'cs' : ['jr', 'jg', 'ys'],\n",
    "              'ss' : ['dj', 'ga', 'gc'],\n",
    "              'gn' : ['sc', 'gn'],\n",
    "              'gb' : ['db', 'gb', 'sb', 'nw'],\n",
    "              'es' : ['ddm', 'jl', 'sd', 'gj'],\n",
    "              'se' : ['gd', 'sp']\n",
    "             }\n",
    "\n",
    "path_list = ['{0}_{1}_0{2}.png'.format(k, v, i) # 10부터는 어떻게 나타내지.. 고민해보자 소령\n",
    "            for k in area_names.keys()\n",
    "            for v in area_names[k]\n",
    "            for i in range(1,14)]\n",
    "\n",
    "path_list[:10]"
   ]
  },
  {
   "cell_type": "code",
   "execution_count": null,
   "metadata": {},
   "outputs": [],
   "source": [
    "df_cafe['파일명'] = path_list\n",
    "df_cafe.head(10)"
   ]
  },
  {
   "cell_type": "code",
   "execution_count": null,
   "metadata": {},
   "outputs": [],
   "source": [
    "df_cafe.to_csv('final_cafe_info_with_path.csv')"
   ]
  },
  {
   "cell_type": "markdown",
   "metadata": {},
   "source": [
    "# 이미지 클러스터 실행\n",
    "\n",
    "정리된 data를 바탕으로 자동으로 이미지 클러스터를 돌릴 수 있도록 했습니다.\n",
    "\n",
    "컴퓨터가 자꾸 열을 받아서 중간중간 쉬어가매 약 3일 정도를 돌렸습니다...(장비병.....)"
   ]
  },
  {
   "cell_type": "code",
   "execution_count": null,
   "metadata": {},
   "outputs": [],
   "source": [
    "'''\n",
    "이거슨 매우 위험한 코드입니다. 잘못하면 컴퓨터 터질지경\n",
    "for index in range(len(path_list)):\n",
    "    result = image_color_cluster('./cafe_image/'+path_list[index])\n",
    "    scipy.misc.imsave('./cafe_color_result/'+path_list[index], result)\n",
    "'''"
   ]
  },
  {
   "cell_type": "markdown",
   "metadata": {},
   "source": [
    "아래 사진은 결과를 저장한 폴더입니다.\n",
    "\n",
    "![결과이미지](cafe_color_result_folder.png)"
   ]
  },
  {
   "cell_type": "markdown",
   "metadata": {},
   "source": [
    "# 대표색\n",
    "(5개의 색 중에서 가장 많이 나온 색)을 찾아 16진수로 바꾸어 반환하는 함수"
   ]
  },
  {
   "cell_type": "code",
   "execution_count": null,
   "metadata": {},
   "outputs": [],
   "source": [
    "def dec_to_hex(color):\n",
    "    if color < 16:\n",
    "        return '0' + str(hex(int(color)).split('x')[1])\n",
    "    else:\n",
    "        return str(hex(int(color)).split('x')[1])"
   ]
  },
  {
   "cell_type": "code",
   "execution_count": null,
   "metadata": {},
   "outputs": [],
   "source": [
    "def read_real_color(filename):\n",
    "    image = cv2.imread(filename, cv2.IMREAD_COLOR)\n",
    "    image = cv2.cvtColor(image, cv2.COLOR_BGR2RGB)\n",
    "\n",
    "    image_list = [str(list(image[i][k])) for i in range(len(image)) for k in range(len(image[0]))]\n",
    "    image_unique = {}\n",
    "    for d in image_list:\n",
    "        if d not in image_unique:\n",
    "            image_unique[d] = 1\n",
    "        else:\n",
    "            image_unique[d] += 1\n",
    "\n",
    "    import operator\n",
    "    icon_color_list = max(image_unique.items(), key=operator.itemgetter(1))[0]\n",
    "\n",
    "    color_R = int(icon_color_list.split('[')[1].split(']')[0].split(', ')[0])\n",
    "    color_G = int(icon_color_list.split('[')[1].split(']')[0].split(', ')[1])\n",
    "    color_B = int(icon_color_list.split('[')[1].split(']')[0].split(', ')[2])\n",
    "\n",
    "    color_R = dec_to_hex(color_R)\n",
    "    color_G = dec_to_hex(color_G)\n",
    "    color_B = dec_to_hex(color_B)\n",
    "\n",
    "    return str(color_R + color_G + color_B)"
   ]
  },
  {
   "cell_type": "code",
   "execution_count": null,
   "metadata": {},
   "outputs": [],
   "source": [
    "color_list = []\n",
    "for n in df_cafe.index:\n",
    "    png = './cafe_color_result/' + df_cafe['파일명'][n]\n",
    "    color_list.append(read_real_color(png))\n",
    "df_cafe['대표색'] = color_list"
   ]
  },
  {
   "cell_type": "code",
   "execution_count": null,
   "metadata": {},
   "outputs": [],
   "source": [
    "# df_cafe.to_csv('cafe_color_tidy_data.csv')"
   ]
  },
  {
   "cell_type": "markdown",
   "metadata": {},
   "source": [
    "cv2설치가 필요하기 때문에 저장한 데이터를 불러와 보여드립니다."
   ]
  },
  {
   "cell_type": "code",
   "execution_count": 2,
   "metadata": {},
   "outputs": [
    {
     "data": {
      "text/html": [
       "<div>\n",
       "<style scoped>\n",
       "    .dataframe tbody tr th:only-of-type {\n",
       "        vertical-align: middle;\n",
       "    }\n",
       "\n",
       "    .dataframe tbody tr th {\n",
       "        vertical-align: top;\n",
       "    }\n",
       "\n",
       "    .dataframe thead th {\n",
       "        text-align: right;\n",
       "    }\n",
       "</style>\n",
       "<table border=\"1\" class=\"dataframe\">\n",
       "  <thead>\n",
       "    <tr style=\"text-align: right;\">\n",
       "      <th></th>\n",
       "      <th>지역</th>\n",
       "      <th>지역구</th>\n",
       "      <th>카페명</th>\n",
       "      <th>주소</th>\n",
       "      <th>위도</th>\n",
       "      <th>경도</th>\n",
       "      <th>파일명</th>\n",
       "      <th>1번 색</th>\n",
       "      <th>2번 색</th>\n",
       "      <th>3번 색</th>\n",
       "      <th>4번 색</th>\n",
       "      <th>5번 색</th>\n",
       "    </tr>\n",
       "  </thead>\n",
       "  <tbody>\n",
       "    <tr>\n",
       "      <th>0</th>\n",
       "      <td>서서울</td>\n",
       "      <td>은평</td>\n",
       "      <td>스모어</td>\n",
       "      <td>서울 은평구 연서로29길 8-8</td>\n",
       "      <td>37.618952</td>\n",
       "      <td>126.919697</td>\n",
       "      <td>ws_ep_01.png</td>\n",
       "      <td>dbd6cc</td>\n",
       "      <td>c7b29a</td>\n",
       "      <td>231a14</td>\n",
       "      <td>ab8f73</td>\n",
       "      <td>644f3f</td>\n",
       "    </tr>\n",
       "    <tr>\n",
       "      <th>1</th>\n",
       "      <td>서서울</td>\n",
       "      <td>은평</td>\n",
       "      <td>필라멘트카페</td>\n",
       "      <td>서울 은평구 통일로 883</td>\n",
       "      <td>37.621753</td>\n",
       "      <td>126.919462</td>\n",
       "      <td>ws_ep_02.png</td>\n",
       "      <td>201d1e</td>\n",
       "      <td>9d7653</td>\n",
       "      <td>5f4939</td>\n",
       "      <td>cead7d</td>\n",
       "      <td>e7e4cf</td>\n",
       "    </tr>\n",
       "    <tr>\n",
       "      <th>2</th>\n",
       "      <td>서서울</td>\n",
       "      <td>은평</td>\n",
       "      <td>HUGA</td>\n",
       "      <td>서울 은평구 진관2로 19</td>\n",
       "      <td>37.634753</td>\n",
       "      <td>126.919774</td>\n",
       "      <td>ws_ep_03.png</td>\n",
       "      <td>36a17c</td>\n",
       "      <td>8ebda8</td>\n",
       "      <td>e5e7df</td>\n",
       "      <td>6f6c49</td>\n",
       "      <td>272b15</td>\n",
       "    </tr>\n",
       "    <tr>\n",
       "      <th>3</th>\n",
       "      <td>서서울</td>\n",
       "      <td>은평</td>\n",
       "      <td>YM Coffee Project</td>\n",
       "      <td>서울 은평구 연서로29길 21-8</td>\n",
       "      <td>37.619095</td>\n",
       "      <td>126.917542</td>\n",
       "      <td>ws_ep_04.png</td>\n",
       "      <td>cab9ab</td>\n",
       "      <td>e9dfd8</td>\n",
       "      <td>403126</td>\n",
       "      <td>af8b6d</td>\n",
       "      <td>84634c</td>\n",
       "    </tr>\n",
       "    <tr>\n",
       "      <th>4</th>\n",
       "      <td>서서울</td>\n",
       "      <td>은평</td>\n",
       "      <td>카페달력</td>\n",
       "      <td>서울 은평구 연서로18길 28-2</td>\n",
       "      <td>37.611930</td>\n",
       "      <td>126.920534</td>\n",
       "      <td>ws_ep_05.png</td>\n",
       "      <td>e8ddd1</td>\n",
       "      <td>d3c0af</td>\n",
       "      <td>b19c89</td>\n",
       "      <td>5a432c</td>\n",
       "      <td>917457</td>\n",
       "    </tr>\n",
       "  </tbody>\n",
       "</table>\n",
       "</div>"
      ],
      "text/plain": [
       "    지역 지역구                카페명                  주소         위도          경도  \\\n",
       "0  서서울  은평                스모어   서울 은평구 연서로29길 8-8  37.618952  126.919697   \n",
       "1  서서울  은평             필라멘트카페      서울 은평구 통일로 883  37.621753  126.919462   \n",
       "2  서서울  은평               HUGA      서울 은평구 진관2로 19  37.634753  126.919774   \n",
       "3  서서울  은평  YM Coffee Project  서울 은평구 연서로29길 21-8  37.619095  126.917542   \n",
       "4  서서울  은평               카페달력  서울 은평구 연서로18길 28-2  37.611930  126.920534   \n",
       "\n",
       "            파일명    1번 색    2번 색    3번 색    4번 색    5번 색  \n",
       "0  ws_ep_01.png  dbd6cc  c7b29a  231a14  ab8f73  644f3f  \n",
       "1  ws_ep_02.png  201d1e  9d7653  5f4939  cead7d  e7e4cf  \n",
       "2  ws_ep_03.png  36a17c  8ebda8  e5e7df  6f6c49  272b15  \n",
       "3  ws_ep_04.png  cab9ab  e9dfd8  403126  af8b6d  84634c  \n",
       "4  ws_ep_05.png  e8ddd1  d3c0af  b19c89  5a432c  917457  "
      ]
     },
     "execution_count": 2,
     "metadata": {},
     "output_type": "execute_result"
    }
   ],
   "source": [
    "df_cafe_with_color = pd.read_csv('final_cafe_color_tidy_data.csv')\n",
    "df_cafe_with_color = df_cafe_with_color.drop('Unnamed: 0', axis=1)\n",
    "df_cafe_with_color.head()"
   ]
  },
  {
   "cell_type": "markdown",
   "metadata": {},
   "source": [
    "# Folium 지도\n",
    "가장 많이 나온 색을 지도의 아이콘에 적용해 찍었습니다."
   ]
  },
  {
   "cell_type": "code",
   "execution_count": null,
   "metadata": {},
   "outputs": [],
   "source": [
    "import base64\n",
    "import folium\n",
    "\n",
    "map = folium.Map(location=[df_cafe['위도'].mean(), df_cafe['경도'].mean()], zoom_start=13)\n",
    "\n",
    "for n in df_cafe.index:\n",
    "    png = './cafe_color_result/' + df_cafe['파일명'][n]\n",
    "    encoded = base64.b64encode(open(png, 'rb').read()).decode('utf-8')\n",
    "    cafe_name = df_cafe['카페명'][n] + ' - ' + df_cafe['주소'][n]\n",
    "    html = f'<p>{cafe_name}</p> <img src=\"data:image/png;base64,{encoded}\">'\n",
    "    iframe = folium.IFrame(html, width=700, height=130)\n",
    "    popup = folium.Popup(iframe, max_width=300)\n",
    "    color = '#' + df_cafe['대표색'][n]\n",
    "    icon = folium.Icon(icon_color=color, color='white')\n",
    "    folium.Marker([df_cafe['위도'][n], df_cafe['경도'][n]], popup=popup, icon=icon).add_to(map)"
   ]
  },
  {
   "cell_type": "markdown",
   "metadata": {},
   "source": [
    "# 혹시 모를 재가공을 위한 Tidy Data\n",
    "저희가 임으로 바꾼 영어 지역명이 각각 무엇인지를 보여주기 위한 DataFrame도 만들었습니다.\n",
    "\n",
    "한글순, 영어순으로 정렬한 것을 각각 만들었습니다.\n",
    "\n",
    "추후 html 홈페이지를 만들때 일일이 작성하기 보다는 이 data를 활용해 반복문을 만들어 손쉽게 작업할 수 있었습니다."
   ]
  },
  {
   "cell_type": "code",
   "execution_count": null,
   "metadata": {},
   "outputs": [],
   "source": [
    "df_sorted_area_by_kor = pd.DataFrame()"
   ]
  },
  {
   "cell_type": "code",
   "execution_count": null,
   "metadata": {},
   "outputs": [],
   "source": [
    "area_dict = {\\\n",
    "'은평구': 'ws_ep', '마포구': 'ws_mp', '서대문구': 'ws_sdm', '강서구': 'sw_gs',\\\n",
    "'양천구': 'sw_yc', '영등포구': 'sw_ydp', '구로구': 'sw_gr', '종로구': 'cs_jr',\\\n",
    "'중구': 'cs_jg', '용산구': 'cs_ys', '동작구': 'ss_dj', '관악구': 'ss_ga',\\\n",
    "'금천구': 'ss_gc', '서초구': 'gn_sc', '강남구': 'gn_gn', '도봉구': 'gb_db',\\\n",
    "'강북구': 'gb_gb', '성북구': 'gb_sb', '노원구': 'gb_nw', '동대문구': 'es_ddm',\\\n",
    "'중랑구': 'es_gl', '성동구': 'es_sd', '광진구': 'es_gj', '강동구': 'se_gd', '송파구': 'se_sp'}"
   ]
  },
  {
   "cell_type": "markdown",
   "metadata": {},
   "source": [
    "## 한글(가나다)순으로 정렬하기"
   ]
  },
  {
   "cell_type": "code",
   "execution_count": null,
   "metadata": {},
   "outputs": [],
   "source": [
    "sorted_area_by_kor = sorted(area_dict.items(), key=lambda x:x[0])\n",
    "sorted_area_by_kor[:10]"
   ]
  },
  {
   "cell_type": "code",
   "execution_count": null,
   "metadata": {},
   "outputs": [],
   "source": [
    "area_in_korean = [area[0] for area in sorted_area_by_kor]\n",
    "area_in_korean[:10]"
   ]
  },
  {
   "cell_type": "code",
   "execution_count": null,
   "metadata": {},
   "outputs": [],
   "source": [
    "df_sorted_area_by_kor['지역명(한글)'] = area_in_korean\n",
    "df_sorted_area_by_kor.head(10)"
   ]
  },
  {
   "cell_type": "code",
   "execution_count": null,
   "metadata": {},
   "outputs": [],
   "source": [
    "area_in_english = [area[1] for area in sorted_area_by_kor]\n",
    "df_sorted_area_by_kor['지역명(영문)'] = area_in_english"
   ]
  },
  {
   "cell_type": "code",
   "execution_count": null,
   "metadata": {},
   "outputs": [],
   "source": [
    "df_sorted_area_by_kor.head()"
   ]
  },
  {
   "cell_type": "code",
   "execution_count": null,
   "metadata": {},
   "outputs": [],
   "source": [
    "df_sorted_area_by_kor.to_csv('data_sorted_area_by_kor.csv')"
   ]
  },
  {
   "cell_type": "markdown",
   "metadata": {},
   "source": [
    "## 같은 방법으로 영문순으로 정렬하기"
   ]
  },
  {
   "cell_type": "code",
   "execution_count": null,
   "metadata": {},
   "outputs": [],
   "source": [
    "df_sorted_area_by_eng = pd.DataFrame()"
   ]
  },
  {
   "cell_type": "code",
   "execution_count": null,
   "metadata": {},
   "outputs": [],
   "source": [
    "sorted_area_by_eng = sorted(area_dict.items(), key=lambda x:x[1])\n",
    "area_in_korean = [area[0] for area in sorted_area_by_eng]\n",
    "area_in_english = [area[1] for area in sorted_area_by_eng]\n",
    "df_sorted_area_by_eng['지역명(영문)'] = area_in_english\n",
    "df_sorted_area_by_eng['지역명(한글)'] = area_in_korean\n",
    "df_sorted_area_by_eng.head()"
   ]
  },
  {
   "cell_type": "code",
   "execution_count": null,
   "metadata": {},
   "outputs": [],
   "source": [
    "df_sorted_area_by_eng.to_csv('data_sorted_area_by_eng.csv')"
   ]
  },
  {
   "cell_type": "markdown",
   "metadata": {},
   "source": [
    "# Tidy Data 작업\n",
    "대표색 이외의 나머지 색도 16진수로 표현해두었습니다.\n",
    "\n",
    "이상의 대표색 추출 코드를 변형했습니다."
   ]
  },
  {
   "cell_type": "code",
   "execution_count": null,
   "metadata": {},
   "outputs": [],
   "source": [
    "def dec_to_hex(color):\n",
    "    if color < 16:\n",
    "        return '0' + str(hex(int(color)).split('x')[1])\n",
    "    else:\n",
    "        return str(hex(int(color)).split('x')[1])"
   ]
  },
  {
   "cell_type": "code",
   "execution_count": null,
   "metadata": {},
   "outputs": [],
   "source": [
    "def read_real_color(filename, color_rank):\n",
    "    image = cv2.imread(filename, cv2.IMREAD_COLOR)\n",
    "    image = cv2.cvtColor(image, cv2.COLOR_BGR2RGB)\n",
    "\n",
    "    image_list = [str(list(image[i][k])) for i in range(len(image)) for k in range(len(image[0]))]\n",
    "    image_unique = {}\n",
    "    for d in image_list:\n",
    "        if d not in image_unique:\n",
    "            image_unique[d] = 1\n",
    "        else:\n",
    "            image_unique[d] += 1\n",
    "\n",
    "    total_color_lists = sorted(image_unique.keys(), key=lambda x:image_unique[x], reverse=True)\n",
    "    color_list = total_color_lists[color_rank]\n",
    "\n",
    "    color_R = int(color_list.split('[')[1].split(']')[0].split(', ')[0])\n",
    "    color_G = int(color_list.split('[')[1].split(']')[0].split(', ')[1])\n",
    "    color_B = int(color_list.split('[')[1].split(']')[0].split(', ')[2])\n",
    "\n",
    "    color_R = dec_to_hex(color_R)\n",
    "    color_G = dec_to_hex(color_G)\n",
    "    color_B = dec_to_hex(color_B)\n",
    "\n",
    "    return str(color_R + color_G + color_B)"
   ]
  },
  {
   "cell_type": "code",
   "execution_count": null,
   "metadata": {},
   "outputs": [],
   "source": [
    "for i in range(5):\n",
    "    color_list = []\n",
    "    for n in df_cafe.index:\n",
    "        png = './cafe_color_result/' + df_cafe['파일명'][n]\n",
    "        color_list.append(read_real_color(png, i))\n",
    "    col_name = str(i+1) + '번 색'\n",
    "    df_cafe[col_name] = color_list"
   ]
  },
  {
   "cell_type": "code",
   "execution_count": null,
   "metadata": {},
   "outputs": [],
   "source": [
    "df_cafe.head()"
   ]
  }
 ],
 "metadata": {
  "kernelspec": {
   "display_name": "Python 3",
   "language": "python",
   "name": "python3"
  },
  "language_info": {
   "codemirror_mode": {
    "name": "ipython",
    "version": 3
   },
   "file_extension": ".py",
   "mimetype": "text/x-python",
   "name": "python",
   "nbconvert_exporter": "python",
   "pygments_lexer": "ipython3",
   "version": "3.6.5"
  }
 },
 "nbformat": 4,
 "nbformat_minor": 2
}
