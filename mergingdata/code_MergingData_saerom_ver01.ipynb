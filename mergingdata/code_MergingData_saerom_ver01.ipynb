{
 "cells": [
  {
   "cell_type": "markdown",
   "metadata": {
    "colab_type": "text",
    "id": "HBSbmJWryHYj"
   },
   "source": [
    "# 임대료 데이터 정리\n",
    "### 1. 데이터 프레임 만들기 (201808)\n",
    "1) 임대료 데이터 불러오기  \n",
    "2) 임대료 데이터 동별로 정리하기\n",
    "3) 임대료 데이터 동별로 dataframe 만들기 \n",
    "\n"
   ]
  },
  {
   "cell_type": "code",
   "execution_count": 13,
   "metadata": {
    "colab": {
     "autoexec": {
      "startup": false,
      "wait_interval": 0
     }
    },
    "colab_type": "code",
    "id": "Ydy8eJLlyHYm"
   },
   "outputs": [],
   "source": [
    "import numpy as np\n",
    "import pandas as pd\n",
    "import re"
   ]
  },
  {
   "cell_type": "code",
   "execution_count": 20,
   "metadata": {
    "colab": {
     "autoexec": {
      "startup": false,
      "wait_interval": 0
     }
    },
    "colab_type": "code",
    "id": "uyuN_V5zyHYv"
   },
   "outputs": [],
   "source": [
    "#임대료 데이터 불러오기\n",
    "df = pd.read_excel('realestate_201808.xlsx')"
   ]
  },
  {
   "cell_type": "code",
   "execution_count": 21,
   "metadata": {
    "colab": {
     "autoexec": {
      "startup": false,
      "wait_interval": 0
     }
    },
    "colab_type": "code",
    "id": "eDYRXm0UyHY3",
    "outputId": "648acf67-7726-4071-8d13-696ca3209bde"
   },
   "outputs": [
    {
     "data": {
      "text/html": [
       "<div>\n",
       "<style scoped>\n",
       "    .dataframe tbody tr th:only-of-type {\n",
       "        vertical-align: middle;\n",
       "    }\n",
       "\n",
       "    .dataframe tbody tr th {\n",
       "        vertical-align: top;\n",
       "    }\n",
       "\n",
       "    .dataframe thead th {\n",
       "        text-align: right;\n",
       "    }\n",
       "</style>\n",
       "<table border=\"1\" class=\"dataframe\">\n",
       "  <thead>\n",
       "    <tr style=\"text-align: right;\">\n",
       "      <th></th>\n",
       "      <th>시군구</th>\n",
       "      <th>유형</th>\n",
       "      <th>지번</th>\n",
       "      <th>도로명</th>\n",
       "      <th>용도지역</th>\n",
       "      <th>건축물주용도</th>\n",
       "      <th>전용/연면적(㎡)</th>\n",
       "      <th>대지면적(㎡)</th>\n",
       "      <th>거래금액(만원)</th>\n",
       "      <th>1㎡당금액(만원)</th>\n",
       "      <th>층</th>\n",
       "      <th>계약년월</th>\n",
       "      <th>계약일</th>\n",
       "      <th>지분구분</th>\n",
       "      <th>건축년도</th>\n",
       "    </tr>\n",
       "  </thead>\n",
       "  <tbody>\n",
       "    <tr>\n",
       "      <th>0</th>\n",
       "      <td>서울특별시 강남구 논현동</td>\n",
       "      <td>집합</td>\n",
       "      <td>1**</td>\n",
       "      <td>학동로26길</td>\n",
       "      <td>제1종일반주거</td>\n",
       "      <td>제2종근린생활</td>\n",
       "      <td>38.64</td>\n",
       "      <td></td>\n",
       "      <td>19,000</td>\n",
       "      <td>491.718427</td>\n",
       "      <td>NaN</td>\n",
       "      <td>201807</td>\n",
       "      <td>11~20</td>\n",
       "      <td></td>\n",
       "      <td>2018.0</td>\n",
       "    </tr>\n",
       "    <tr>\n",
       "      <th>1</th>\n",
       "      <td>서울특별시 강남구 논현동</td>\n",
       "      <td>집합</td>\n",
       "      <td>2**</td>\n",
       "      <td>봉은사로</td>\n",
       "      <td>일반상업</td>\n",
       "      <td>숙박</td>\n",
       "      <td>30.03</td>\n",
       "      <td></td>\n",
       "      <td>20,000</td>\n",
       "      <td>666.000666</td>\n",
       "      <td>12.0</td>\n",
       "      <td>201807</td>\n",
       "      <td>21~31</td>\n",
       "      <td></td>\n",
       "      <td>2003.0</td>\n",
       "    </tr>\n",
       "  </tbody>\n",
       "</table>\n",
       "</div>"
      ],
      "text/plain": [
       "             시군구  유형   지번     도로명     용도지역   건축물주용도  전용/연면적(㎡) 대지면적(㎡)  \\\n",
       "0  서울특별시 강남구 논현동  집합  1**  학동로26길  제1종일반주거  제2종근린생활      38.64           \n",
       "1  서울특별시 강남구 논현동  집합  2**    봉은사로     일반상업       숙박      30.03           \n",
       "\n",
       "  거래금액(만원)   1㎡당금액(만원)     층    계약년월    계약일 지분구분    건축년도  \n",
       "0   19,000  491.718427   NaN  201807  11~20       2018.0  \n",
       "1   20,000  666.000666  12.0  201807  21~31       2003.0  "
      ]
     },
     "execution_count": 21,
     "metadata": {},
     "output_type": "execute_result"
    }
   ],
   "source": [
    "df.head(2)"
   ]
  },
  {
   "cell_type": "code",
   "execution_count": 23,
   "metadata": {
    "colab": {
     "autoexec": {
      "startup": false,
      "wait_interval": 0
     }
    },
    "colab_type": "code",
    "id": "l-IDKkqUyHZk"
   },
   "outputs": [],
   "source": [
    " real_estate= df[['시군구', '1㎡당금액(만원)']]"
   ]
  },
  {
   "cell_type": "code",
   "execution_count": 24,
   "metadata": {},
   "outputs": [
    {
     "data": {
      "text/html": [
       "<div>\n",
       "<style scoped>\n",
       "    .dataframe tbody tr th:only-of-type {\n",
       "        vertical-align: middle;\n",
       "    }\n",
       "\n",
       "    .dataframe tbody tr th {\n",
       "        vertical-align: top;\n",
       "    }\n",
       "\n",
       "    .dataframe thead th {\n",
       "        text-align: right;\n",
       "    }\n",
       "</style>\n",
       "<table border=\"1\" class=\"dataframe\">\n",
       "  <thead>\n",
       "    <tr style=\"text-align: right;\">\n",
       "      <th></th>\n",
       "      <th>시군구</th>\n",
       "      <th>1㎡당금액(만원)</th>\n",
       "    </tr>\n",
       "  </thead>\n",
       "  <tbody>\n",
       "    <tr>\n",
       "      <th>0</th>\n",
       "      <td>서울특별시 강남구 논현동</td>\n",
       "      <td>491.718427</td>\n",
       "    </tr>\n",
       "    <tr>\n",
       "      <th>1</th>\n",
       "      <td>서울특별시 강남구 논현동</td>\n",
       "      <td>666.000666</td>\n",
       "    </tr>\n",
       "    <tr>\n",
       "      <th>2</th>\n",
       "      <td>서울특별시 강남구 논현동</td>\n",
       "      <td>941.176471</td>\n",
       "    </tr>\n",
       "    <tr>\n",
       "      <th>3</th>\n",
       "      <td>서울특별시 강남구 논현동</td>\n",
       "      <td>562.491080</td>\n",
       "    </tr>\n",
       "    <tr>\n",
       "      <th>4</th>\n",
       "      <td>서울특별시 강남구 대치동</td>\n",
       "      <td>1400.560224</td>\n",
       "    </tr>\n",
       "  </tbody>\n",
       "</table>\n",
       "</div>"
      ],
      "text/plain": [
       "             시군구    1㎡당금액(만원)\n",
       "0  서울특별시 강남구 논현동   491.718427\n",
       "1  서울특별시 강남구 논현동   666.000666\n",
       "2  서울특별시 강남구 논현동   941.176471\n",
       "3  서울특별시 강남구 논현동   562.491080\n",
       "4  서울특별시 강남구 대치동  1400.560224"
      ]
     },
     "execution_count": 24,
     "metadata": {},
     "output_type": "execute_result"
    }
   ],
   "source": [
    "real_estate.head()"
   ]
  },
  {
   "cell_type": "code",
   "execution_count": 26,
   "metadata": {},
   "outputs": [],
   "source": [
    "#우선 동별 데이터를 불러올수 있는지 확인해본다\n",
    "#그리고 동별 1㎡당금액(만원) 을 평균을 낼수 있는지 확인해본다 \n",
    "# 나중에 배달 데이터랑 확인해본다"
   ]
  },
  {
   "cell_type": "code",
   "execution_count": 27,
   "metadata": {},
   "outputs": [],
   "source": [
    "dong = real_estate.groupby(['시군구'])[('1㎡당금액(만원)')].sum()"
   ]
  },
  {
   "cell_type": "code",
   "execution_count": 28,
   "metadata": {},
   "outputs": [
    {
     "data": {
      "text/plain": [
       "시군구\n",
       "서울특별시 강남구 논현동     2661.386643\n",
       "서울특별시 강남구 대치동    15602.426371\n",
       "서울특별시 강남구 도곡동     3885.924088\n",
       "서울특별시 강남구 삼성동     2878.826349\n",
       "서울특별시 강남구 수서동     4429.128471\n",
       "Name: 1㎡당금액(만원), dtype: float64"
      ]
     },
     "execution_count": 28,
     "metadata": {},
     "output_type": "execute_result"
    }
   ],
   "source": [
    "dong.head()"
   ]
  },
  {
   "cell_type": "code",
   "execution_count": null,
   "metadata": {},
   "outputs": [],
   "source": [
    "# 각동별로 평균내기\n",
    "# 배달 데이터랑 부동산 데이터 병합하기"
   ]
  }
 ],
 "metadata": {
  "colab": {
   "collapsed_sections": [],
   "default_view": {},
   "name": "code_MergingData_seonmin_ver01.ipynb",
   "provenance": [],
   "version": "0.3.2",
   "views": {}
  },
  "kernelspec": {
   "display_name": "Python 3",
   "language": "python",
   "name": "python3"
  },
  "language_info": {
   "codemirror_mode": {
    "name": "ipython",
    "version": 3
   },
   "file_extension": ".py",
   "mimetype": "text/x-python",
   "name": "python",
   "nbconvert_exporter": "python",
   "pygments_lexer": "ipython3",
   "version": "3.6.5"
  }
 },
 "nbformat": 4,
 "nbformat_minor": 1
}
